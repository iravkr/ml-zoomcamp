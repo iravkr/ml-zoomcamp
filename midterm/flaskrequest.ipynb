{
 "cells": [
  {
   "cell_type": "code",
   "execution_count": 1,
   "metadata": {},
   "outputs": [],
   "source": [
    "import requests\n"
   ]
  },
  {
   "cell_type": "code",
   "execution_count": 2,
   "metadata": {},
   "outputs": [],
   "source": [
    "url = 'http://0.0.0.0:4041/predict'\n"
   ]
  },
  {
   "cell_type": "code",
   "execution_count": 9,
   "metadata": {},
   "outputs": [],
   "source": [
    "person = {\n",
    "    \"age\" : 28, \n",
    "    \"workclass\": \"Private\", \n",
    "    \"final_weight\": 338409 , \n",
    "    \"education\": \"Bachelors\", \n",
    "    \"educationnum\": 13,\n",
    "    \"marital_status\":\"Married-civ-spouse\", \n",
    "    \"occupation\": \"Prof-specialty\", \n",
    "    \"relationship\": \"Wife\" , \n",
    "    \"race\": \"Black\", \n",
    "    \"gender\": \"Female\",\n",
    "    \"capital_gain\": 0, \n",
    "    \"capital_loss\":0, \n",
    "    \"hours_per_week\":40, \n",
    "    \"native_country\": \"cuba\"\n",
    "}"
   ]
  },
  {
   "cell_type": "code",
   "execution_count": 10,
   "metadata": {},
   "outputs": [],
   "source": [
    "response = requests.post(url, json=person).json()\n"
   ]
  },
  {
   "cell_type": "code",
   "execution_count": 11,
   "metadata": {},
   "outputs": [
    {
     "data": {
      "text/plain": [
       "{'status': ' <=50K'}"
      ]
     },
     "execution_count": 11,
     "metadata": {},
     "output_type": "execute_result"
    }
   ],
   "source": [
    "response"
   ]
  },
  {
   "cell_type": "code",
   "execution_count": 14,
   "metadata": {},
   "outputs": [
    {
     "name": "stdout",
     "output_type": "stream",
     "text": [
      "Earns less than 50k.\n"
     ]
    }
   ],
   "source": [
    "try:\n",
    "    response = requests.post(url, json=person)\n",
    "    \n",
    "    if response.status_code == 200:\n",
    "        data = response.json()\n",
    "        if data.get('status') == \" <=50K\":\n",
    "            print('Earns less than 50k.')\n",
    "        else:\n",
    "            print('Earns more than 50k.')\n",
    "    else:\n",
    "        print(f'Request failed with status code {response.status_code}')\n",
    "except requests.exceptions.RequestException as e:\n",
    "    print(f'Request error: {e}')"
   ]
  },
  {
   "cell_type": "code",
   "execution_count": null,
   "metadata": {},
   "outputs": [],
   "source": []
  }
 ],
 "metadata": {
  "kernelspec": {
   "display_name": "mlops-zoomcamp",
   "language": "python",
   "name": "python3"
  },
  "language_info": {
   "codemirror_mode": {
    "name": "ipython",
    "version": 3
   },
   "file_extension": ".py",
   "mimetype": "text/x-python",
   "name": "python",
   "nbconvert_exporter": "python",
   "pygments_lexer": "ipython3",
   "version": "3.9.0"
  }
 },
 "nbformat": 4,
 "nbformat_minor": 2
}
